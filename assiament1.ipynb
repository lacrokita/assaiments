{
 "cells": [
  {
   "cell_type": "code",
   "execution_count": 1,
   "id": "bcaf11f5-a9c2-4c13-a2f0-ea3ddfed933b",
   "metadata": {},
   "outputs": [],
   "source": [
    "#assaiment 1\n",
    "# Ahmed Hisham\n",
    "# 4221023"
   ]
  },
  {
   "cell_type": "code",
   "execution_count": 5,
   "id": "18202f7a-49d9-4a89-b9bf-191ec141ca08",
   "metadata": {},
   "outputs": [],
   "source": [
    "def tanh(x):\n",
    "    return (2 / (1 + pow(2.71828, -2 * x))) - 1  "
   ]
  },
  {
   "cell_type": "code",
   "execution_count": 7,
   "id": "4d957413-b77d-4a29-ba44-f3b137b0543f",
   "metadata": {},
   "outputs": [],
   "source": [
    "def forward_pass(x1, x2, w):\n",
    "    w11, w12, w21, w22, w31, w32 = w\n",
    "    b1, b2 = 0.5, 0.7\n",
    "    h1 = tanh(x1 * w11 + x2 * w21 + b1)\n",
    "    h2 = tanh(x1 * w12 + x2 * w22 + b1)\n",
    "    y = tanh(h1 * w31 + h2 * w32 + b2)\n",
    "    return y"
   ]
  },
  {
   "cell_type": "code",
   "execution_count": 9,
   "id": "2149180d-11c9-455b-b9ef-8d5fe5d06ab1",
   "metadata": {},
   "outputs": [],
   "source": [
    "def random_weight():\n",
    "    return -0.5 + (1.0 * (id(object()) % 100) / 100)  "
   ]
  },
  {
   "cell_type": "code",
   "execution_count": 11,
   "id": "6aceb582-09ee-45a3-a08a-25c44acfcb96",
   "metadata": {},
   "outputs": [
    {
     "name": "stdout",
     "output_type": "stream",
     "text": [
      "Output of the network: 0.7247713255576687\n"
     ]
    }
   ],
   "source": [
    "weights = [random_weight() for _ in range(6)]\n",
    "x1, x2 = 0.3, -0.7\n",
    "output = forward_pass(x1, x2, weights)\n",
    "print(\"Output of the network:\", output)"
   ]
  },
  {
   "cell_type": "code",
   "execution_count": null,
   "id": "a75c0951-cd57-430a-b32a-30e2f96c4e8f",
   "metadata": {},
   "outputs": [],
   "source": []
  }
 ],
 "metadata": {
  "kernelspec": {
   "display_name": "Python 3 (ipykernel)",
   "language": "python",
   "name": "python3"
  },
  "language_info": {
   "codemirror_mode": {
    "name": "ipython",
    "version": 3
   },
   "file_extension": ".py",
   "mimetype": "text/x-python",
   "name": "python",
   "nbconvert_exporter": "python",
   "pygments_lexer": "ipython3",
   "version": "3.12.4"
  }
 },
 "nbformat": 4,
 "nbformat_minor": 5
}
