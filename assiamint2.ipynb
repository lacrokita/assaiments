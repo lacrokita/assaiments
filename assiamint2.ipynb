{
 "cells": [
  {
   "cell_type": "code",
   "execution_count": 1,
   "id": "8584adb5-d525-4f48-b737-0f6fe3efcb71",
   "metadata": {},
   "outputs": [],
   "source": [
    "# 1: Inputs and Initial Weights\n",
    "inputs = [0.05, 0.10]\n",
    "targets = [0.01, 0.99]\n",
    "\n",
    "weights_input_hidden = [[0.15, 0.20], [0.25, 0.30]]\n",
    "bias_hidden = [0.35, 0.35]\n",
    "\n",
    "weights_hidden_output = [[0.40, 0.45], [0.50, 0.55]]\n",
    "bias_output = [0.60, 0.60]\n"
   ]
  },
  {
   "cell_type": "code",
   "execution_count": 3,
   "id": "e4a39963-b99e-4a80-ba33-36c1c432c788",
   "metadata": {},
   "outputs": [],
   "source": [
    "# 2: Activation Functions\n",
    "def sigmoid(x):\n",
    "    return 1 / (1 + (2.71828 ** -x))\n",
    "\n",
    "def sigmoid_derivative(x):\n",
    "    return x * (1 - x)"
   ]
  },
  {
   "cell_type": "code",
   "execution_count": 5,
   "id": "663d3461-4bee-40b5-925d-9590b7b10d41",
   "metadata": {},
   "outputs": [
    {
     "name": "stdout",
     "output_type": "stream",
     "text": [
      "[0.5932699308345653, 0.5968843147339272]\n",
      "[0.7513649206628114, 0.772928309201338]\n"
     ]
    }
   ],
   "source": [
    "#  3: Forward Propagation\n",
    "hidden_inputs = [\n",
    "    weights_input_hidden[0][0] * inputs[0] + weights_input_hidden[0][1] * inputs[1] + bias_hidden[0],\n",
    "    weights_input_hidden[1][0] * inputs[0] + weights_input_hidden[1][1] * inputs[1] + bias_hidden[1]\n",
    "]\n",
    "\n",
    "hidden_outputs = [sigmoid(hidden_inputs[0]), sigmoid(hidden_inputs[1])]\n",
    "print(hidden_outputs)\n",
    "\n",
    "final_inputs = [\n",
    "    weights_hidden_output[0][0] * hidden_outputs[0] + weights_hidden_output[0][1] * hidden_outputs[1] + bias_output[0],\n",
    "    weights_hidden_output[1][0] * hidden_outputs[0] + weights_hidden_output[1][1] * hidden_outputs[1] + bias_output[1]\n",
    "]\n",
    "\n",
    "final_outputs = [sigmoid(final_inputs[0]), sigmoid(final_inputs[1])]\n",
    "print(final_outputs)"
   ]
  },
  {
   "cell_type": "code",
   "execution_count": 7,
   "id": "f5149209-2b73-4ad2-b6ed-f1ce0792671d",
   "metadata": {},
   "outputs": [
    {
     "name": "stdout",
     "output_type": "stream",
     "text": [
      "0.2983710322677833\n"
     ]
    }
   ],
   "source": [
    "#  4: Error Calculation\n",
    "error = [0.5 * (targets[0] - final_outputs[0]) ** 2, 0.5 * (targets[1] - final_outputs[1]) ** 2]\n",
    "print(sum(error))"
   ]
  },
  {
   "cell_type": "code",
   "execution_count": 9,
   "id": "5a0d0613-7595-4067-9966-d530677e8eff",
   "metadata": {},
   "outputs": [
    {
     "name": "stdout",
     "output_type": "stream",
     "text": [
      "[-0.7413649206628113, 0.21707169079866195]\n",
      "[-0.1384985893057427, 0.03809828241588935]\n",
      "[-0.036350294514352406, -0.04137030985884507]\n",
      "[-0.008771352238602183, -0.009954252137036082]\n"
     ]
    }
   ],
   "source": [
    "#  5: Backpropagation\n",
    "learning_rate = 0.5\n",
    "\n",
    "output_errors = [targets[0] - final_outputs[0], targets[1] - final_outputs[1]]\n",
    "print(output_errors)\n",
    "\n",
    "delta_output = [output_errors[0] * sigmoid_derivative(final_outputs[0]), output_errors[1] * sigmoid_derivative(final_outputs[1])]\n",
    "print(delta_output)\n",
    "\n",
    "hidden_errors = [\n",
    "    weights_hidden_output[0][0] * delta_output[0] + weights_hidden_output[1][0] * delta_output[1],\n",
    "    weights_hidden_output[0][1] * delta_output[0] + weights_hidden_output[1][1] * delta_output[1]\n",
    "]\n",
    "print(hidden_errors)\n",
    "\n",
    "delta_hidden = [hidden_errors[0] * sigmoid_derivative(hidden_outputs[0]), hidden_errors[1] * sigmoid_derivative(hidden_outputs[1])]\n",
    "print(delta_hidden)\n"
   ]
  },
  {
   "cell_type": "code",
   "execution_count": 11,
   "id": "e085b6b5-9e46-4e57-af64-7e9fa07c1acc",
   "metadata": {},
   "outputs": [],
   "source": [
    "#  6: Weight Updates\n",
    "weights_hidden_output[0][0] += learning_rate * delta_output[0] * hidden_outputs[0]\n",
    "weights_hidden_output[0][1] += learning_rate * delta_output[0] * hidden_outputs[1]\n",
    "weights_hidden_output[1][0] += learning_rate * delta_output[1] * hidden_outputs[0]\n",
    "weights_hidden_output[1][1] += learning_rate * delta_output[1] * hidden_outputs[1]\n",
    "\n",
    "bias_output[0] += learning_rate * delta_output[0]\n",
    "bias_output[1] += learning_rate * delta_output[1]\n",
    "\n",
    "weights_input_hidden[0][0] += learning_rate * delta_hidden[0] * inputs[0]\n",
    "weights_input_hidden[0][1] += learning_rate * delta_hidden[0] * inputs[1]\n",
    "weights_input_hidden[1][0] += learning_rate * delta_hidden[1] * inputs[0]\n",
    "weights_input_hidden[1][1] += learning_rate * delta_hidden[1] * inputs[1]\n",
    "\n",
    "bias_hidden[0] += learning_rate * delta_hidden[0]\n",
    "bias_hidden[1] += learning_rate * delta_hidden[1]"
   ]
  },
  {
   "cell_type": "code",
   "execution_count": 13,
   "id": "0a149c43-a8dd-4f96-9cc1-8f6a094c91e3",
   "metadata": {},
   "outputs": [
    {
     "name": "stdout",
     "output_type": "stream",
     "text": [
      "[0.7284416179513458, 0.7783767696783304]\n"
     ]
    }
   ],
   "source": [
    "#  7: Recalculate Outputs\n",
    "hidden_inputs = [\n",
    "    weights_input_hidden[0][0] * inputs[0] + weights_input_hidden[0][1] * inputs[1] + bias_hidden[0],\n",
    "    weights_input_hidden[1][0] * inputs[0] + weights_input_hidden[1][1] * inputs[1] + bias_hidden[1]\n",
    "]\n",
    "\n",
    "hidden_outputs = [sigmoid(hidden_inputs[0]), sigmoid(hidden_inputs[1])]\n",
    "\n",
    "final_inputs = [\n",
    "    weights_hidden_output[0][0] * hidden_outputs[0] + weights_hidden_output[0][1] * hidden_outputs[1] + bias_output[0],\n",
    "    weights_hidden_output[1][0] * hidden_outputs[0] + weights_hidden_output[1][1] * hidden_outputs[1] + bias_output[1]\n",
    "]\n",
    "\n",
    "final_outputs = [sigmoid(final_inputs[0]), sigmoid(final_inputs[1])]\n",
    "print(final_outputs)\n"
   ]
  },
  {
   "cell_type": "code",
   "execution_count": null,
   "id": "0b20859b-64a4-4abe-9f72-af829e0ff974",
   "metadata": {},
   "outputs": [],
   "source": []
  }
 ],
 "metadata": {
  "kernelspec": {
   "display_name": "Python 3 (ipykernel)",
   "language": "python",
   "name": "python3"
  },
  "language_info": {
   "codemirror_mode": {
    "name": "ipython",
    "version": 3
   },
   "file_extension": ".py",
   "mimetype": "text/x-python",
   "name": "python",
   "nbconvert_exporter": "python",
   "pygments_lexer": "ipython3",
   "version": "3.12.4"
  }
 },
 "nbformat": 4,
 "nbformat_minor": 5
}
